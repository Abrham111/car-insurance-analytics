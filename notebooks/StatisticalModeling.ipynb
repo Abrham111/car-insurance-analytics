{
 "cells": [
  {
   "cell_type": "code",
   "execution_count": 1,
   "metadata": {},
   "outputs": [],
   "source": [
    "from sklearn.model_selection import train_test_split\n",
    "from sklearn.preprocessing import StandardScaler\n",
    "import pandas as pd\n",
    "import sys\n",
    "sys.path.append('../src')\n",
    "from load_data import data_loader\n",
    "from statistical_modeling import *"
   ]
  },
  {
   "cell_type": "code",
   "execution_count": 2,
   "metadata": {},
   "outputs": [
    {
     "name": "stderr",
     "output_type": "stream",
     "text": [
      "c:\\Users\\user\\Documents\\Python\\week-03\\notebooks\\../src\\load_data.py:16: DtypeWarning: Columns (4,32,37) have mixed types. Specify dtype option on import or set low_memory=False.\n",
      "  data = pd.read_csv(file_path)\n"
     ]
    }
   ],
   "source": [
    "file_path = '../data/weekthree.csv'\n",
    "df = data_loader(file_path)"
   ]
  },
  {
   "cell_type": "code",
   "execution_count": 3,
   "metadata": {},
   "outputs": [],
   "source": [
    "# Cleaning the data\n",
    "# drop columns with more than 5 missing values\n",
    "df = df.loc[:, df.isnull().sum() <= 5]\n",
    "# Drop rows with any NaN values\n",
    "df = df.dropna(axis=0, how='any')\n",
    "# Remove duplicates\n",
    "df.drop_duplicates(inplace=True)"
   ]
  },
  {
   "cell_type": "code",
   "execution_count": 4,
   "metadata": {},
   "outputs": [
    {
     "data": {
      "text/plain": [
       "np.int64(0)"
      ]
     },
     "execution_count": 4,
     "metadata": {},
     "output_type": "execute_result"
    }
   ],
   "source": [
    "df.isnull().sum().sum()"
   ]
  },
  {
   "cell_type": "code",
   "execution_count": 5,
   "metadata": {},
   "outputs": [],
   "source": [
    "# Standardize numerical features\n",
    "scaler = StandardScaler()\n",
    "df[['TotalPremium', 'TotalClaims']] = scaler.fit_transform(df[['TotalPremium', 'TotalClaims']])"
   ]
  },
  {
   "cell_type": "code",
   "execution_count": 6,
   "metadata": {},
   "outputs": [
    {
     "data": {
      "text/plain": [
       "np.int64(0)"
      ]
     },
     "execution_count": 6,
     "metadata": {},
     "output_type": "execute_result"
    }
   ],
   "source": [
    "df.isnull().sum().sum()"
   ]
  },
  {
   "cell_type": "code",
   "execution_count": 7,
   "metadata": {},
   "outputs": [],
   "source": [
    "# Identify all categorical columns (dtype 'object')\n",
    "categorical_cols = df.select_dtypes(include=['object']).columns\n",
    "\n",
    "# Convert all categorical variables to numeric using One-Hot Encoding\n",
    "df = pd.get_dummies(df, columns=categorical_cols, drop_first=True)"
   ]
  },
  {
   "cell_type": "code",
   "execution_count": 8,
   "metadata": {},
   "outputs": [
    {
     "name": "stdout",
     "output_type": "stream",
     "text": [
      "Original Data Size: 998652\n",
      "Sampled Training Set Size: 10000\n",
      "Sampled Test Set Size: 2000\n"
     ]
    }
   ],
   "source": [
    "# Define the target variable\n",
    "y = df['TotalPremium']\n",
    "\n",
    "# Define features (exclude the target variable and any non-feature columns)\n",
    "X = df.drop(columns=['TotalPremium'])\n",
    "\n",
    "# Split the data into training and testing sets\n",
    "X_train, X_test, y_train, y_test = train_test_split(X, y, test_size=0.2, random_state=42)\n",
    "\n",
    "# Sample the training data for faster processing\n",
    "X_train_sample = X_train.sample(n=10000, random_state=42)\n",
    "y_train_sample = y_train.loc[X_train_sample.index]\n",
    "\n",
    "# The original test set is 20% of the data, we will take 20% of the original test set\n",
    "test_sample_size = 2000\n",
    "X_test_sample = X_test.sample(n=test_sample_size, random_state=42)\n",
    "y_test_sample = y_test.loc[X_test_sample.index]\n",
    "\n",
    "# Check the sizes to confirm the ratios\n",
    "print(f\"Original Data Size: {len(df)}\")\n",
    "print(f\"Sampled Training Set Size: {len(X_train_sample)}\")  # Should be 10000\n",
    "print(f\"Sampled Test Set Size: {len(X_test_sample)}\")  # Should be 2000"
   ]
  },
  {
   "cell_type": "markdown",
   "metadata": {},
   "source": [
    "I tried to work using the whole dataset but it needs a large memory so I used sample training and testing datas\n"
   ]
  },
  {
   "cell_type": "code",
   "execution_count": 9,
   "metadata": {},
   "outputs": [
    {
     "name": "stdout",
     "output_type": "stream",
     "text": [
      "Linear Regression MSE: 9.500976616544357\n"
     ]
    }
   ],
   "source": [
    "# Train the model\n",
    "lr_model, lr_mse = linear_regression(X_train_sample, X_test_sample, y_train_sample, y_test_sample)\n",
    "\n",
    "# Print the Mean Squared Error\n",
    "print(f\"Linear Regression MSE: {lr_mse}\")"
   ]
  },
  {
   "cell_type": "code",
   "execution_count": 10,
   "metadata": {},
   "outputs": [
    {
     "name": "stdout",
     "output_type": "stream",
     "text": [
      "Random Forest MSE: 0.23318444707650912\n"
     ]
    }
   ],
   "source": [
    "# Train the model\n",
    "rf_model, rf_mse = random_forest(X_train_sample, X_test_sample, y_train_sample, y_test_sample)\n",
    "\n",
    "# Print the rf Mean Squared Error\n",
    "print(f\"Random Forest MSE: {rf_mse}\")"
   ]
  },
  {
   "cell_type": "code",
   "execution_count": null,
   "metadata": {},
   "outputs": [],
   "source": [
    "# Train the model\n",
    "xgb_model, xgb_mse = xgboost_model(X_train_sample, X_test_sample, y_train_sample, y_test_sample)\n",
    "\n",
    "# Print the xgb Mean Squared Error\n",
    "print(f\"XGBoost MSE: {xgb_mse}\")"
   ]
  }
 ],
 "metadata": {
  "kernelspec": {
   "display_name": ".venv",
   "language": "python",
   "name": "python3"
  },
  "language_info": {
   "codemirror_mode": {
    "name": "ipython",
    "version": 3
   },
   "file_extension": ".py",
   "mimetype": "text/x-python",
   "name": "python",
   "nbconvert_exporter": "python",
   "pygments_lexer": "ipython3",
   "version": "3.13.0"
  }
 },
 "nbformat": 4,
 "nbformat_minor": 2
}
